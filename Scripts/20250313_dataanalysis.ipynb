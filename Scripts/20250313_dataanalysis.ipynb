{
  "metadata": {
    "kernelspec": {
      "name": "python",
      "display_name": "Python (Pyodide)",
      "language": "python"
    },
    "language_info": {
      "codemirror_mode": {
        "name": "python",
        "version": 3
      },
      "file_extension": ".py",
      "mimetype": "text/x-python",
      "name": "python",
      "nbconvert_exporter": "python",
      "pygments_lexer": "ipython3",
      "version": "3.8"
    }
  },
  "nbformat_minor": 5,
  "nbformat": 4,
  "cells": [
    {
      "id": "a786cb8f-1725-4856-97d2-2a616c3c91ea",
      "cell_type": "markdown",
      "source": "# Contact Information",
      "metadata": {}
    },
    {
      "id": "afa79297-1a5e-4a24-a503-21e4d00f7edc",
      "cell_type": "markdown",
      "source": "\nAuthor: Noah Wheatley\n\n\nContact: noah.wheatley@unibe.ch\n\n\nDate: 13.03.2025",
      "metadata": {}
    },
    {
      "id": "1171fcd1-ab26-4571-afe2-6d10f6b9457a",
      "cell_type": "markdown",
      "source": "# Analysis",
      "metadata": {}
    },
    {
      "id": "6e46845c-898d-4425-888e-9afca3289397",
      "cell_type": "markdown",
      "source": "This is the computation of bunny fur colour\n\n* Bunny 1\n* Bunny 2\n* Bunny 3",
      "metadata": {}
    },
    {
      "id": "437fc6db-3468-48f2-a632-0babdf4b4414",
      "cell_type": "code",
      "source": "temperature=234+4545",
      "metadata": {
        "trusted": true
      },
      "outputs": [],
      "execution_count": 6
    },
    {
      "id": "84fca3f4-1dea-442d-bb16-9e6795781a25",
      "cell_type": "code",
      "source": "temperature",
      "metadata": {
        "trusted": true
      },
      "outputs": [
        {
          "execution_count": 7,
          "output_type": "execute_result",
          "data": {
            "text/plain": "4779"
          },
          "metadata": {}
        }
      ],
      "execution_count": 7
    },
    {
      "id": "bdae120b-fbf6-4841-a056-d53780feb00c",
      "cell_type": "code",
      "source": "",
      "metadata": {
        "trusted": true
      },
      "outputs": [],
      "execution_count": null
    }
  ]
}